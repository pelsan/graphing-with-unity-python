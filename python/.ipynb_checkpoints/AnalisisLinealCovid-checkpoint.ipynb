{
 "cells": [
  {
   "cell_type": "markdown",
   "metadata": {},
   "source": [
    "Casos confirmados"
   ]
  },
  {
   "cell_type": "code",
   "execution_count": null,
   "metadata": {},
   "outputs": [],
   "source": [
    "import numpy as np\n",
    "import pandas as pd\n",
    "import matplotlib.pyplot as plt\n",
    "import statsmodels.api as sm\n",
    "import seaborn as sns\n",
    "sns.set()"
   ]
  },
  {
   "cell_type": "code",
   "execution_count": null,
   "metadata": {},
   "outputs": [],
   "source": [
    "data = pd.read_csv('210323COVID19MEXICO.csv')"
   ]
  },
  {
   "cell_type": "code",
   "execution_count": null,
   "metadata": {},
   "outputs": [],
   "source": [
    "data_confirmados = data[data.CLASIFICACION_FINAL.isin([1,2,3])]"
   ]
  },
  {
   "cell_type": "code",
   "execution_count": null,
   "metadata": {},
   "outputs": [],
   "source": [
    "listaEstados = []\n",
    "listaEstadosCasosConfirmados = []\n",
    "nombreEstados = ['NA','AGUASCALIENTES','BAJA CALIFORNIA NORTE','BAJA CALIFORNIA SUR','CAMPECHE','COAHUILA','COLIMA',\n",
    "                 'CHIAPAS','CHIHUAHUA','CIUDAD DE MÉXICO','DURANGO','GUANAJUATO','GUERRERO','HIDALGO','JALISCO',\n",
    "                 'ESTADO DE MÉXICO','MICHOACÁN','MORELOS','NAYARIT','NUEVO LEÓN','OAXACA','PUEBLA','QUERÉTARO',\n",
    "                 'QUINTANA ROO','SAN LUIS POTOSÍ','SINALOA','SONORA','TABASCO','TAMAULIPAS','TLAXCALA','VERACRUZ',\n",
    "                 'YUCATÁN','ZACATECAS']\n",
    "estados = 32"
   ]
  },
  {
   "cell_type": "code",
   "execution_count": null,
   "metadata": {
    "scrolled": true
   },
   "outputs": [],
   "source": [
    "for x in range(estados):\n",
    "    listaEstados.append(data[data['ENTIDAD_RES']== (x+1) ])    "
   ]
  },
  {
   "cell_type": "code",
   "execution_count": null,
   "metadata": {},
   "outputs": [],
   "source": [
    "for x in range(estados):\n",
    "        listaEstadosCasosConfirmados.append(data_confirmados[data_confirmados['ENTIDAD_RES']== (x+1) ])"
   ]
  },
  {
   "cell_type": "markdown",
   "metadata": {},
   "source": [
    "Grafica y guarda en formato PNG los casos por edad y por estado"
   ]
  },
  {
   "cell_type": "code",
   "execution_count": null,
   "metadata": {},
   "outputs": [],
   "source": [
    "\n",
    "#for x in range(estados):\n",
    "#    print (\"Procesando Estado num: \"+str(x+1))\n",
    "#    y = listaEstadosCasosConfirmados[x]['EDAD']\n",
    "#    x1 = listaEstadosCasosConfirmados[x]['FECHA_SINTOMAS']\n",
    "#    fig = plt.figure(figsize=(100,50))\n",
    "#    plt.scatter(x1,y)\n",
    "#    plt.title(nombreEstados[x+1]+\" RESIDENCIA CONFIRMADOS\",fontsize =40)\n",
    "#    plt.xlabel('FECHA_SINTOMAS', fontsize =40)\n",
    "#    plt.ylabel('EDAD', fontsize =40)\n",
    "#    fig.savefig(\"TEMPOS/EDAD_FECHASINTOMAS_CONFIRMADOS_\"+nombreEstados[x+1]+\".png\")\n",
    "#    plt.close(fig)\n",
    "    "
   ]
  },
  {
   "cell_type": "code",
   "execution_count": null,
   "metadata": {},
   "outputs": [],
   "source": [
    "df = pd.DataFrame()\n",
    "df['FECHA_SINTOMAS'] = (listaEstadosCasosConfirmados[8]['FECHA_SINTOMAS'])\n",
    "df['EDAD'] = listaEstadosCasosConfirmados[8]['EDAD']"
   ]
  },
  {
   "cell_type": "code",
   "execution_count": null,
   "metadata": {},
   "outputs": [],
   "source": [
    "resultado = df.groupby(by='FECHA_SINTOMAS').count()"
   ]
  },
  {
   "cell_type": "code",
   "execution_count": null,
   "metadata": {
    "scrolled": true
   },
   "outputs": [],
   "source": [
    "#y = resultado['EDAD']\n",
    "#x1 = resultado['EDAD'].index\n",
    "#fig = plt.figure(figsize=(40,15))\n",
    "#plt.scatter(x1,y)\n",
    "#plt.title(\" RESIDENCIA CONFIRMADOS\",fontsize =40)\n",
    "#plt.xlabel('FECHA_SINTOMAS', fontsize =40)\n",
    "#plt.ylabel('CASOS', fontsize =40)\n",
    "#plt.show()"
   ]
  },
  {
   "cell_type": "code",
   "execution_count": null,
   "metadata": {},
   "outputs": [],
   "source": [
    "resultado.to_csv('EDAD_FECHAINGRESO_CONFIRMADOS_example.csv')"
   ]
  },
  {
   "cell_type": "code",
   "execution_count": null,
   "metadata": {},
   "outputs": [],
   "source": [
    "listaEstadosCasosConfirmados[8].to_csv('EDAD_FECHAINGRESO_CDMX.csv')"
   ]
  },
  {
   "cell_type": "markdown",
   "metadata": {},
   "source": [
    "Se almacenara en un CVS los totales por cada Estado "
   ]
  },
  {
   "cell_type": "code",
   "execution_count": null,
   "metadata": {
    "scrolled": true
   },
   "outputs": [],
   "source": [
    "ListaTotalesCasosPositivosEstados = []\n",
    "\n",
    "for x in range(estados):\n",
    "    #print (\"Procesando Estado num: \"+str(x+1))\n",
    "    df = pd.DataFrame()\n",
    "    df['FECHA_SINTOMAS'] = (listaEstadosCasosConfirmados[x]['FECHA_SINTOMAS'])\n",
    "    df['EDAD'] = listaEstadosCasosConfirmados[x]['EDAD']\n",
    "    resultado = df.groupby(by='FECHA_SINTOMAS').count()\n",
    "    ListaTotalesCasosPositivosEstados.append(resultado) \n",
    "    "
   ]
  },
  {
   "cell_type": "code",
   "execution_count": null,
   "metadata": {},
   "outputs": [],
   "source": [
    "df = pd.DataFrame()\n",
    "df = pd.DataFrame(columns=['X', 'Y', 'Z'])"
   ]
  },
  {
   "cell_type": "code",
   "execution_count": null,
   "metadata": {},
   "outputs": [],
   "source": []
  },
  {
   "cell_type": "code",
   "execution_count": null,
   "metadata": {},
   "outputs": [],
   "source": [
    "for e in range(estados):\n",
    "    for x in range(len(ListaTotalesCasosPositivosEstados[e].index)):\n",
    "        df = df.append({'X': e*10, 'Z':str(x), 'Y': (ListaTotalesCasosPositivosEstados[e]['EDAD'][x]/50)}, ignore_index=True)"
   ]
  },
  {
   "cell_type": "code",
   "execution_count": null,
   "metadata": {},
   "outputs": [],
   "source": [
    "df.to_csv('XYZESTADOSTOTALES.csv',index=False, header=False)"
   ]
  },
  {
   "cell_type": "markdown",
   "metadata": {},
   "source": [
    "Proceso de datos por Edades"
   ]
  },
  {
   "cell_type": "code",
   "execution_count": null,
   "metadata": {},
   "outputs": [],
   "source": [
    "edad = 100\n",
    "listaEdades = []\n",
    "for x in range(edad):\n",
    "    listaEdades.append(data_confirmados[data_confirmados['EDAD']== (x) ])    "
   ]
  },
  {
   "cell_type": "code",
   "execution_count": null,
   "metadata": {},
   "outputs": [],
   "source": [
    "##"
   ]
  },
  {
   "cell_type": "code",
   "execution_count": null,
   "metadata": {},
   "outputs": [],
   "source": [
    "ListaTotalesCasosPositivosEdad = []\n",
    "\n",
    "#Creamos un nuevo dataframe que solo tenga edad y fecha sintomas\n",
    "\n",
    "for x in range(edad):\n",
    "    # print (\"Procesando Edad \"+str(x+1))\n",
    "    df = pd.DataFrame()\n",
    "    df['FECHA_SINTOMAS'] = (listaEdades[x]['FECHA_SINTOMAS'])\n",
    "    df['EDAD'] = listaEdades[x]['EDAD']\n",
    "    resultado = df.groupby(by='FECHA_SINTOMAS').count()\n",
    "    ListaTotalesCasosPositivosEdad.append(resultado) \n",
    "    "
   ]
  },
  {
   "cell_type": "code",
   "execution_count": null,
   "metadata": {},
   "outputs": [],
   "source": [
    "# Preparando los datos para graficarlos por puntos/esferas\n",
    "df = pd.DataFrame()\n",
    "df = pd.DataFrame(columns=['X', 'Y', 'Z'])"
   ]
  },
  {
   "cell_type": "code",
   "execution_count": null,
   "metadata": {},
   "outputs": [],
   "source": [
    "for e in range(edad):\n",
    "    for x in range(len(ListaTotalesCasosPositivosEdad[e].index)):\n",
    "        df = df.append({'X': e*10, 'Z':str(x), 'Y': (ListaTotalesCasosPositivosEdad[e]['EDAD'][x])}, ignore_index=True)"
   ]
  },
  {
   "cell_type": "code",
   "execution_count": null,
   "metadata": {},
   "outputs": [],
   "source": [
    "df.to_csv('XYZEDADTOTALES.csv',index=False, header=False)"
   ]
  },
  {
   "cell_type": "code",
   "execution_count": null,
   "metadata": {},
   "outputs": [],
   "source": [
    "# Preparando los datos para graficarlos en un Terrain\n",
    "df = pd.DataFrame()\n",
    "df = pd.DataFrame(columns=['X', 'Y', 'ALTURA'])"
   ]
  },
  {
   "cell_type": "code",
   "execution_count": null,
   "metadata": {},
   "outputs": [],
   "source": [
    "#Sacamos el numero maximo de ocurrencias por edad\n",
    "listaMax = []\n",
    "for e in range(edad):\n",
    "    listaMax.append ( len (ListaTotalesCasosPositivosEdad[e].index))\n",
    "max(listaMax)\n"
   ]
  },
  {
   "cell_type": "code",
   "execution_count": null,
   "metadata": {},
   "outputs": [],
   "source": []
  }
 ],
 "metadata": {
  "kernelspec": {
   "display_name": "Python 3",
   "language": "python",
   "name": "python3"
  },
  "language_info": {
   "codemirror_mode": {
    "name": "ipython",
    "version": 3
   },
   "file_extension": ".py",
   "mimetype": "text/x-python",
   "name": "python",
   "nbconvert_exporter": "python",
   "pygments_lexer": "ipython3",
   "version": "3.8.5"
  }
 },
 "nbformat": 4,
 "nbformat_minor": 4
}
